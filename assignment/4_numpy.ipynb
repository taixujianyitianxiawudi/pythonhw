{
 "cells": [
  {
   "cell_type": "markdown",
   "metadata": {},
   "source": [
    "<h1>Numpy and Pandas Home Assignment</h1>\n",
    "In this assignment, we will use pandas and numpy to do some fairly basic analysis on equities."
   ]
  },
  {
   "cell_type": "markdown",
   "metadata": {},
   "source": [
    "<h3>Imports</h3>"
   ]
  },
  {
   "cell_type": "code",
   "execution_count": 1,
   "metadata": {
    "collapsed": true
   },
   "outputs": [],
   "source": [
    "import datetime\n",
    "import numpy as np\n",
    "import pandas as pd\n",
    "%matplotlib inline\n",
    "import pandas_datareader.data as web\n",
    "import fix_yahoo_finance as yf"
   ]
  },
  {
   "cell_type": "markdown",
   "metadata": {},
   "source": [
    "<h3>Get data on the following four stocks from yahoo finance</h3>\n",
    "<li>MS, GS, JPM, C\n",
    "<li>Use the date range 2013/1/1/ to 2018/9/24"
   ]
  },
  {
   "cell_type": "code",
   "execution_count": 2,
   "metadata": {
    "collapsed": true
   },
   "outputs": [
    {
     "output_type": "execute_result",
     "data": {
      "text/plain": [
       "Symbols            MS          GS         JPM          C\n",
       "Date                                                    \n",
       "2012-12-31  19.120001  127.559998   43.970001  39.560001\n",
       "2013-01-02  19.620001  131.660004   44.660000  41.250000\n",
       "2013-01-03  19.580000  130.940002   44.570000  41.389999\n",
       "2013-01-04  20.190001  134.509995   45.360001  42.430000\n",
       "2013-01-07  19.799999  134.259995   45.410000  42.470001\n",
       "...               ...         ...         ...        ...\n",
       "2018-09-18  47.849998  228.889999  114.300003  71.360001\n",
       "2018-09-19  49.099998  235.580002  117.620003  73.720001\n",
       "2018-09-20  49.880001  237.399994  118.629997  74.790001\n",
       "2018-09-21  49.410000  235.339996  117.849998  74.150002\n",
       "2018-09-24  48.560001  232.899994  116.720001  73.839996\n",
       "\n",
       "[1444 rows x 4 columns]"
      ],
      "text/html": "<div>\n<style scoped>\n    .dataframe tbody tr th:only-of-type {\n        vertical-align: middle;\n    }\n\n    .dataframe tbody tr th {\n        vertical-align: top;\n    }\n\n    .dataframe thead th {\n        text-align: right;\n    }\n</style>\n<table border=\"1\" class=\"dataframe\">\n  <thead>\n    <tr style=\"text-align: right;\">\n      <th>Symbols</th>\n      <th>MS</th>\n      <th>GS</th>\n      <th>JPM</th>\n      <th>C</th>\n    </tr>\n    <tr>\n      <th>Date</th>\n      <th></th>\n      <th></th>\n      <th></th>\n      <th></th>\n    </tr>\n  </thead>\n  <tbody>\n    <tr>\n      <th>2012-12-31</th>\n      <td>19.120001</td>\n      <td>127.559998</td>\n      <td>43.970001</td>\n      <td>39.560001</td>\n    </tr>\n    <tr>\n      <th>2013-01-02</th>\n      <td>19.620001</td>\n      <td>131.660004</td>\n      <td>44.660000</td>\n      <td>41.250000</td>\n    </tr>\n    <tr>\n      <th>2013-01-03</th>\n      <td>19.580000</td>\n      <td>130.940002</td>\n      <td>44.570000</td>\n      <td>41.389999</td>\n    </tr>\n    <tr>\n      <th>2013-01-04</th>\n      <td>20.190001</td>\n      <td>134.509995</td>\n      <td>45.360001</td>\n      <td>42.430000</td>\n    </tr>\n    <tr>\n      <th>2013-01-07</th>\n      <td>19.799999</td>\n      <td>134.259995</td>\n      <td>45.410000</td>\n      <td>42.470001</td>\n    </tr>\n    <tr>\n      <th>...</th>\n      <td>...</td>\n      <td>...</td>\n      <td>...</td>\n      <td>...</td>\n    </tr>\n    <tr>\n      <th>2018-09-18</th>\n      <td>47.849998</td>\n      <td>228.889999</td>\n      <td>114.300003</td>\n      <td>71.360001</td>\n    </tr>\n    <tr>\n      <th>2018-09-19</th>\n      <td>49.099998</td>\n      <td>235.580002</td>\n      <td>117.620003</td>\n      <td>73.720001</td>\n    </tr>\n    <tr>\n      <th>2018-09-20</th>\n      <td>49.880001</td>\n      <td>237.399994</td>\n      <td>118.629997</td>\n      <td>74.790001</td>\n    </tr>\n    <tr>\n      <th>2018-09-21</th>\n      <td>49.410000</td>\n      <td>235.339996</td>\n      <td>117.849998</td>\n      <td>74.150002</td>\n    </tr>\n    <tr>\n      <th>2018-09-24</th>\n      <td>48.560001</td>\n      <td>232.899994</td>\n      <td>116.720001</td>\n      <td>73.839996</td>\n    </tr>\n  </tbody>\n</table>\n<p>1444 rows × 4 columns</p>\n</div>"
     },
     "metadata": {},
     "execution_count": 2
    }
   ],
   "source": [
    "stock_data = web.DataReader(['MS','GS','JPM','C'],'yahoo',datetime.datetime(2013,1,1),datetime.datetime(2018,9,24))['Close']\n",
    "stock_data"
   ]
  },
  {
   "cell_type": "markdown",
   "metadata": {},
   "source": [
    "<h3>Compute the cross correlation coefficients on the stocks</h3>\n",
    "<li>Create a df 'rets' with the one day percentage changes\n",
    "<li>Calculate cross correlations on the rets df"
   ]
  },
  {
   "cell_type": "code",
   "execution_count": 3,
   "metadata": {
    "collapsed": true
   },
   "outputs": [
    {
     "output_type": "execute_result",
     "data": {
      "text/plain": [
       "Symbols        MS        GS       JPM         C\n",
       "Symbols                                        \n",
       "MS       1.000000  0.844553  0.801439  0.810056\n",
       "GS       0.844553  1.000000  0.813269  0.792937\n",
       "JPM      0.801439  0.813269  1.000000  0.849128\n",
       "C        0.810056  0.792937  0.849128  1.000000"
      ],
      "text/html": "<div>\n<style scoped>\n    .dataframe tbody tr th:only-of-type {\n        vertical-align: middle;\n    }\n\n    .dataframe tbody tr th {\n        vertical-align: top;\n    }\n\n    .dataframe thead th {\n        text-align: right;\n    }\n</style>\n<table border=\"1\" class=\"dataframe\">\n  <thead>\n    <tr style=\"text-align: right;\">\n      <th>Symbols</th>\n      <th>MS</th>\n      <th>GS</th>\n      <th>JPM</th>\n      <th>C</th>\n    </tr>\n    <tr>\n      <th>Symbols</th>\n      <th></th>\n      <th></th>\n      <th></th>\n      <th></th>\n    </tr>\n  </thead>\n  <tbody>\n    <tr>\n      <th>MS</th>\n      <td>1.000000</td>\n      <td>0.844553</td>\n      <td>0.801439</td>\n      <td>0.810056</td>\n    </tr>\n    <tr>\n      <th>GS</th>\n      <td>0.844553</td>\n      <td>1.000000</td>\n      <td>0.813269</td>\n      <td>0.792937</td>\n    </tr>\n    <tr>\n      <th>JPM</th>\n      <td>0.801439</td>\n      <td>0.813269</td>\n      <td>1.000000</td>\n      <td>0.849128</td>\n    </tr>\n    <tr>\n      <th>C</th>\n      <td>0.810056</td>\n      <td>0.792937</td>\n      <td>0.849128</td>\n      <td>1.000000</td>\n    </tr>\n  </tbody>\n</table>\n</div>"
     },
     "metadata": {},
     "execution_count": 3
    }
   ],
   "source": [
    "rets = stock_data.pct_change()\n",
    "rets.corr()"
   ]
  },
  {
   "cell_type": "markdown",
   "metadata": {},
   "source": [
    "<h3>Select a pair of stocks to trade</h3>\n",
    "<li>Choose the pair with the highest correlation\n",
    "<li>You can just eyeball the result and pick the highest correlation pairs\n",
    "<li>Create a new df 'pairs' with the returns columns of the highest correlation pairs"
   ]
  },
  {
   "cell_type": "code",
   "execution_count": 4,
   "metadata": {
    "collapsed": true
   },
   "outputs": [
    {
     "output_type": "execute_result",
     "data": {
      "text/plain": [
       "Symbols          JPM         C\n",
       "Date                          \n",
       "2012-12-31       NaN       NaN\n",
       "2013-01-02  0.015692  0.042720\n",
       "2013-01-03 -0.002015  0.003394\n",
       "2013-01-04  0.017725  0.025127\n",
       "2013-01-07  0.001102  0.000943\n",
       "...              ...       ...\n",
       "2018-09-18  0.004041  0.006772\n",
       "2018-09-19  0.029046  0.033072\n",
       "2018-09-20  0.008587  0.014514\n",
       "2018-09-21 -0.006575 -0.008557\n",
       "2018-09-24 -0.009588 -0.004181\n",
       "\n",
       "[1444 rows x 2 columns]"
      ],
      "text/html": "<div>\n<style scoped>\n    .dataframe tbody tr th:only-of-type {\n        vertical-align: middle;\n    }\n\n    .dataframe tbody tr th {\n        vertical-align: top;\n    }\n\n    .dataframe thead th {\n        text-align: right;\n    }\n</style>\n<table border=\"1\" class=\"dataframe\">\n  <thead>\n    <tr style=\"text-align: right;\">\n      <th>Symbols</th>\n      <th>JPM</th>\n      <th>C</th>\n    </tr>\n    <tr>\n      <th>Date</th>\n      <th></th>\n      <th></th>\n    </tr>\n  </thead>\n  <tbody>\n    <tr>\n      <th>2012-12-31</th>\n      <td>NaN</td>\n      <td>NaN</td>\n    </tr>\n    <tr>\n      <th>2013-01-02</th>\n      <td>0.015692</td>\n      <td>0.042720</td>\n    </tr>\n    <tr>\n      <th>2013-01-03</th>\n      <td>-0.002015</td>\n      <td>0.003394</td>\n    </tr>\n    <tr>\n      <th>2013-01-04</th>\n      <td>0.017725</td>\n      <td>0.025127</td>\n    </tr>\n    <tr>\n      <th>2013-01-07</th>\n      <td>0.001102</td>\n      <td>0.000943</td>\n    </tr>\n    <tr>\n      <th>...</th>\n      <td>...</td>\n      <td>...</td>\n    </tr>\n    <tr>\n      <th>2018-09-18</th>\n      <td>0.004041</td>\n      <td>0.006772</td>\n    </tr>\n    <tr>\n      <th>2018-09-19</th>\n      <td>0.029046</td>\n      <td>0.033072</td>\n    </tr>\n    <tr>\n      <th>2018-09-20</th>\n      <td>0.008587</td>\n      <td>0.014514</td>\n    </tr>\n    <tr>\n      <th>2018-09-21</th>\n      <td>-0.006575</td>\n      <td>-0.008557</td>\n    </tr>\n    <tr>\n      <th>2018-09-24</th>\n      <td>-0.009588</td>\n      <td>-0.004181</td>\n    </tr>\n  </tbody>\n</table>\n<p>1444 rows × 2 columns</p>\n</div>"
     },
     "metadata": {},
     "execution_count": 4
    }
   ],
   "source": [
    "pairs = rets[['JPM','C']]\n",
    "pairs"
   ]
  },
  {
   "cell_type": "markdown",
   "metadata": {},
   "source": [
    "<h3>Calculate the mean and std dev of the columns (returns of the two stocks)</h3>\n",
    "<li>Note that line 1 contains a NaN. You'll have to get rid of this line\n",
    "<li>df.describe() returns summary stats for all cols in a dataframe. You can use this to extract means and standard deviations"
   ]
  },
  {
   "cell_type": "code",
   "execution_count": 5,
   "metadata": {},
   "outputs": [],
   "source": [
    "new_df = rets[['C','JPM']].iloc[1:]\n",
    "c_std = new_df.describe()['C']['std']\n",
    "j_std = new_df.describe()['JPM']['std']\n",
    "c_mean = new_df.describe()['C']['mean']\n",
    "j_mean = new_df.describe()['JPM']['mean']"
   ]
  },
  {
   "cell_type": "markdown",
   "metadata": {},
   "source": [
    "<h3>Create a new column \"Long_JPM_Short_C\"</h3>\n",
    "<li>If the return of C is greater than its mean + 0.25* std\n",
    "<li> AND\n",
    "<li>If the return of JPM is less than its mean - 0.25*std\n",
    "<li>The value in this col should be True or False"
   ]
  },
  {
   "cell_type": "code",
   "execution_count": 6,
   "metadata": {
    "collapsed": true
   },
   "outputs": [
    {
     "output_type": "execute_result",
     "data": {
      "text/plain": [
       "Symbols            C       JPM  Long_JPM_Short_C\n",
       "Date                                            \n",
       "2013-01-02  0.042720  0.015692             False\n",
       "2013-01-03  0.003394 -0.002015             False\n",
       "2013-01-04  0.025127  0.017725             False\n",
       "2013-01-07  0.000943  0.001102             False\n",
       "2013-01-08 -0.000236  0.001982             False\n",
       "...              ...       ...               ...\n",
       "2018-09-18  0.006772  0.004041             False\n",
       "2018-09-19  0.033072  0.029046             False\n",
       "2018-09-20  0.014514  0.008587             False\n",
       "2018-09-21 -0.008557 -0.006575             False\n",
       "2018-09-24 -0.004181 -0.009588             False\n",
       "\n",
       "[1443 rows x 3 columns]"
      ],
      "text/html": "<div>\n<style scoped>\n    .dataframe tbody tr th:only-of-type {\n        vertical-align: middle;\n    }\n\n    .dataframe tbody tr th {\n        vertical-align: top;\n    }\n\n    .dataframe thead th {\n        text-align: right;\n    }\n</style>\n<table border=\"1\" class=\"dataframe\">\n  <thead>\n    <tr style=\"text-align: right;\">\n      <th>Symbols</th>\n      <th>C</th>\n      <th>JPM</th>\n      <th>Long_JPM_Short_C</th>\n    </tr>\n    <tr>\n      <th>Date</th>\n      <th></th>\n      <th></th>\n      <th></th>\n    </tr>\n  </thead>\n  <tbody>\n    <tr>\n      <th>2013-01-02</th>\n      <td>0.042720</td>\n      <td>0.015692</td>\n      <td>False</td>\n    </tr>\n    <tr>\n      <th>2013-01-03</th>\n      <td>0.003394</td>\n      <td>-0.002015</td>\n      <td>False</td>\n    </tr>\n    <tr>\n      <th>2013-01-04</th>\n      <td>0.025127</td>\n      <td>0.017725</td>\n      <td>False</td>\n    </tr>\n    <tr>\n      <th>2013-01-07</th>\n      <td>0.000943</td>\n      <td>0.001102</td>\n      <td>False</td>\n    </tr>\n    <tr>\n      <th>2013-01-08</th>\n      <td>-0.000236</td>\n      <td>0.001982</td>\n      <td>False</td>\n    </tr>\n    <tr>\n      <th>...</th>\n      <td>...</td>\n      <td>...</td>\n      <td>...</td>\n    </tr>\n    <tr>\n      <th>2018-09-18</th>\n      <td>0.006772</td>\n      <td>0.004041</td>\n      <td>False</td>\n    </tr>\n    <tr>\n      <th>2018-09-19</th>\n      <td>0.033072</td>\n      <td>0.029046</td>\n      <td>False</td>\n    </tr>\n    <tr>\n      <th>2018-09-20</th>\n      <td>0.014514</td>\n      <td>0.008587</td>\n      <td>False</td>\n    </tr>\n    <tr>\n      <th>2018-09-21</th>\n      <td>-0.008557</td>\n      <td>-0.006575</td>\n      <td>False</td>\n    </tr>\n    <tr>\n      <th>2018-09-24</th>\n      <td>-0.004181</td>\n      <td>-0.009588</td>\n      <td>False</td>\n    </tr>\n  </tbody>\n</table>\n<p>1443 rows × 3 columns</p>\n</div>"
     },
     "metadata": {},
     "execution_count": 6
    }
   ],
   "source": [
    "new_df['Long_JPM_Short_C'] = (new_df['C'] > (c_mean + 0.25 * c_std)) & (new_df['JPM'] < (j_mean - 0.25 * j_std))\n",
    "new_df"
   ]
  },
  {
   "cell_type": "markdown",
   "metadata": {},
   "source": [
    "<h3>Create a new column \"Long_C_Short_JPM\"</h3>\n",
    "<li>If the return of JPM is greater than its mean + 0.25* std\n",
    "<li> AND\n",
    "<li>If the return of C is less than its mean - 0.25*std\n",
    "<li>The value in this col should be True or False"
   ]
  },
  {
   "cell_type": "code",
   "execution_count": 7,
   "metadata": {
    "collapsed": true
   },
   "outputs": [
    {
     "output_type": "execute_result",
     "data": {
      "text/plain": [
       "Symbols            C       JPM  Long_JPM_Short_C  Long_C_Short_JPM\n",
       "Date                                                              \n",
       "2013-01-02  0.042720  0.015692             False             False\n",
       "2013-01-03  0.003394 -0.002015             False             False\n",
       "2013-01-04  0.025127  0.017725             False             False\n",
       "2013-01-07  0.000943  0.001102             False             False\n",
       "2013-01-08 -0.000236  0.001982             False             False\n",
       "...              ...       ...               ...               ...\n",
       "2018-09-18  0.006772  0.004041             False             False\n",
       "2018-09-19  0.033072  0.029046             False             False\n",
       "2018-09-20  0.014514  0.008587             False             False\n",
       "2018-09-21 -0.008557 -0.006575             False             False\n",
       "2018-09-24 -0.004181 -0.009588             False             False\n",
       "\n",
       "[1443 rows x 4 columns]"
      ],
      "text/html": "<div>\n<style scoped>\n    .dataframe tbody tr th:only-of-type {\n        vertical-align: middle;\n    }\n\n    .dataframe tbody tr th {\n        vertical-align: top;\n    }\n\n    .dataframe thead th {\n        text-align: right;\n    }\n</style>\n<table border=\"1\" class=\"dataframe\">\n  <thead>\n    <tr style=\"text-align: right;\">\n      <th>Symbols</th>\n      <th>C</th>\n      <th>JPM</th>\n      <th>Long_JPM_Short_C</th>\n      <th>Long_C_Short_JPM</th>\n    </tr>\n    <tr>\n      <th>Date</th>\n      <th></th>\n      <th></th>\n      <th></th>\n      <th></th>\n    </tr>\n  </thead>\n  <tbody>\n    <tr>\n      <th>2013-01-02</th>\n      <td>0.042720</td>\n      <td>0.015692</td>\n      <td>False</td>\n      <td>False</td>\n    </tr>\n    <tr>\n      <th>2013-01-03</th>\n      <td>0.003394</td>\n      <td>-0.002015</td>\n      <td>False</td>\n      <td>False</td>\n    </tr>\n    <tr>\n      <th>2013-01-04</th>\n      <td>0.025127</td>\n      <td>0.017725</td>\n      <td>False</td>\n      <td>False</td>\n    </tr>\n    <tr>\n      <th>2013-01-07</th>\n      <td>0.000943</td>\n      <td>0.001102</td>\n      <td>False</td>\n      <td>False</td>\n    </tr>\n    <tr>\n      <th>2013-01-08</th>\n      <td>-0.000236</td>\n      <td>0.001982</td>\n      <td>False</td>\n      <td>False</td>\n    </tr>\n    <tr>\n      <th>...</th>\n      <td>...</td>\n      <td>...</td>\n      <td>...</td>\n      <td>...</td>\n    </tr>\n    <tr>\n      <th>2018-09-18</th>\n      <td>0.006772</td>\n      <td>0.004041</td>\n      <td>False</td>\n      <td>False</td>\n    </tr>\n    <tr>\n      <th>2018-09-19</th>\n      <td>0.033072</td>\n      <td>0.029046</td>\n      <td>False</td>\n      <td>False</td>\n    </tr>\n    <tr>\n      <th>2018-09-20</th>\n      <td>0.014514</td>\n      <td>0.008587</td>\n      <td>False</td>\n      <td>False</td>\n    </tr>\n    <tr>\n      <th>2018-09-21</th>\n      <td>-0.008557</td>\n      <td>-0.006575</td>\n      <td>False</td>\n      <td>False</td>\n    </tr>\n    <tr>\n      <th>2018-09-24</th>\n      <td>-0.004181</td>\n      <td>-0.009588</td>\n      <td>False</td>\n      <td>False</td>\n    </tr>\n  </tbody>\n</table>\n<p>1443 rows × 4 columns</p>\n</div>"
     },
     "metadata": {},
     "execution_count": 7
    }
   ],
   "source": [
    "new_df['Long_C_Short_JPM'] = (new_df['JPM'] > (j_mean + 0.25 * j_std)) & (new_df['C'] < (c_mean - 0.25 * c_std))\n",
    "new_df"
   ]
  },
  {
   "cell_type": "markdown",
   "metadata": {},
   "source": [
    "<h3>Create a new column \"Trade_return\"</h3>\n",
    "<li>If Long_JPM_Short_C is True and Long_C_Short_JPM is False, the value of this column should be the return on JPM minus the return on C\n",
    "<li>If Long_JPM_Short_C is False and Long_C_Short_JPM is True, the value of this column should be the return on C minus the return on JPM\n",
    "<li>Otherwise the value should be zero"
   ]
  },
  {
   "cell_type": "code",
   "execution_count": 8,
   "metadata": {
    "collapsed": true
   },
   "outputs": [
    {
     "output_type": "execute_result",
     "data": {
      "text/plain": [
       "Symbols            C       JPM  Long_JPM_Short_C  Long_C_Short_JPM  \\\n",
       "Date                                                                 \n",
       "2013-01-02  0.042720  0.015692             False             False   \n",
       "2013-01-03  0.003394 -0.002015             False             False   \n",
       "2013-01-04  0.025127  0.017725             False             False   \n",
       "2013-01-07  0.000943  0.001102             False             False   \n",
       "2013-01-08 -0.000236  0.001982             False             False   \n",
       "...              ...       ...               ...               ...   \n",
       "2018-09-18  0.006772  0.004041             False             False   \n",
       "2018-09-19  0.033072  0.029046             False             False   \n",
       "2018-09-20  0.014514  0.008587             False             False   \n",
       "2018-09-21 -0.008557 -0.006575             False             False   \n",
       "2018-09-24 -0.004181 -0.009588             False             False   \n",
       "\n",
       "Symbols     Trade_return  \n",
       "Date                      \n",
       "2013-01-02           0.0  \n",
       "2013-01-03           0.0  \n",
       "2013-01-04           0.0  \n",
       "2013-01-07           0.0  \n",
       "2013-01-08           0.0  \n",
       "...                  ...  \n",
       "2018-09-18           0.0  \n",
       "2018-09-19           0.0  \n",
       "2018-09-20           0.0  \n",
       "2018-09-21           0.0  \n",
       "2018-09-24           0.0  \n",
       "\n",
       "[1443 rows x 5 columns]"
      ],
      "text/html": "<div>\n<style scoped>\n    .dataframe tbody tr th:only-of-type {\n        vertical-align: middle;\n    }\n\n    .dataframe tbody tr th {\n        vertical-align: top;\n    }\n\n    .dataframe thead th {\n        text-align: right;\n    }\n</style>\n<table border=\"1\" class=\"dataframe\">\n  <thead>\n    <tr style=\"text-align: right;\">\n      <th>Symbols</th>\n      <th>C</th>\n      <th>JPM</th>\n      <th>Long_JPM_Short_C</th>\n      <th>Long_C_Short_JPM</th>\n      <th>Trade_return</th>\n    </tr>\n    <tr>\n      <th>Date</th>\n      <th></th>\n      <th></th>\n      <th></th>\n      <th></th>\n      <th></th>\n    </tr>\n  </thead>\n  <tbody>\n    <tr>\n      <th>2013-01-02</th>\n      <td>0.042720</td>\n      <td>0.015692</td>\n      <td>False</td>\n      <td>False</td>\n      <td>0.0</td>\n    </tr>\n    <tr>\n      <th>2013-01-03</th>\n      <td>0.003394</td>\n      <td>-0.002015</td>\n      <td>False</td>\n      <td>False</td>\n      <td>0.0</td>\n    </tr>\n    <tr>\n      <th>2013-01-04</th>\n      <td>0.025127</td>\n      <td>0.017725</td>\n      <td>False</td>\n      <td>False</td>\n      <td>0.0</td>\n    </tr>\n    <tr>\n      <th>2013-01-07</th>\n      <td>0.000943</td>\n      <td>0.001102</td>\n      <td>False</td>\n      <td>False</td>\n      <td>0.0</td>\n    </tr>\n    <tr>\n      <th>2013-01-08</th>\n      <td>-0.000236</td>\n      <td>0.001982</td>\n      <td>False</td>\n      <td>False</td>\n      <td>0.0</td>\n    </tr>\n    <tr>\n      <th>...</th>\n      <td>...</td>\n      <td>...</td>\n      <td>...</td>\n      <td>...</td>\n      <td>...</td>\n    </tr>\n    <tr>\n      <th>2018-09-18</th>\n      <td>0.006772</td>\n      <td>0.004041</td>\n      <td>False</td>\n      <td>False</td>\n      <td>0.0</td>\n    </tr>\n    <tr>\n      <th>2018-09-19</th>\n      <td>0.033072</td>\n      <td>0.029046</td>\n      <td>False</td>\n      <td>False</td>\n      <td>0.0</td>\n    </tr>\n    <tr>\n      <th>2018-09-20</th>\n      <td>0.014514</td>\n      <td>0.008587</td>\n      <td>False</td>\n      <td>False</td>\n      <td>0.0</td>\n    </tr>\n    <tr>\n      <th>2018-09-21</th>\n      <td>-0.008557</td>\n      <td>-0.006575</td>\n      <td>False</td>\n      <td>False</td>\n      <td>0.0</td>\n    </tr>\n    <tr>\n      <th>2018-09-24</th>\n      <td>-0.004181</td>\n      <td>-0.009588</td>\n      <td>False</td>\n      <td>False</td>\n      <td>0.0</td>\n    </tr>\n  </tbody>\n</table>\n<p>1443 rows × 5 columns</p>\n</div>"
     },
     "metadata": {},
     "execution_count": 8
    }
   ],
   "source": [
    "new_df['Trade_return'] = np.where((new_df['Long_JPM_Short_C']&~(new_df['Long_C_Short_JPM'])),new_df['JPM']-new_df['C'],np.where((new_df['Long_C_Short_JPM']&~(new_df['Long_JPM_Short_C'])),new_df['C']-new_df['JPM'],0))\n",
    "new_df"
   ]
  },
  {
   "cell_type": "markdown",
   "metadata": {},
   "source": [
    "<h3>Calculate the sum of this new column</h3>\n",
    "<li>Are you going to get rich?"
   ]
  },
  {
   "cell_type": "code",
   "execution_count": 9,
   "metadata": {
    "collapsed": true
   },
   "outputs": [
    {
     "output_type": "execute_result",
     "data": {
      "text/plain": [
       "-0.6793516982785628"
      ]
     },
     "metadata": {},
     "execution_count": 9
    }
   ],
   "source": [
    "new_df['Trade_return'].sum()"
   ]
  },
  {
   "cell_type": "code",
   "execution_count": 10,
   "metadata": {},
   "outputs": [
    {
     "output_type": "stream",
     "name": "stdout",
     "text": [
      "NO!\n"
     ]
    }
   ],
   "source": [
    "print(\"NO!\")"
   ]
  },
  {
   "cell_type": "code",
   "execution_count": null,
   "metadata": {},
   "outputs": [],
   "source": []
  }
 ],
 "metadata": {
  "kernelspec": {
   "name": "python395jvsc74a57bd0b61bcc1c1a0d6dcbdbbf867afcb290b77dd53b256dced17a02313d7081f8c26f",
   "display_name": "Python 3.9.5 64-bit ('Python39')"
  },
  "language_info": {
   "codemirror_mode": {
    "name": "ipython",
    "version": 3
   },
   "file_extension": ".py",
   "mimetype": "text/x-python",
   "name": "python",
   "nbconvert_exporter": "python",
   "pygments_lexer": "ipython3",
   "version": "3.9.5"
  },
  "metadata": {
   "interpreter": {
    "hash": "b61bcc1c1a0d6dcbdbbf867afcb290b77dd53b256dced17a02313d7081f8c26f"
   }
  }
 },
 "nbformat": 4,
 "nbformat_minor": 2
}