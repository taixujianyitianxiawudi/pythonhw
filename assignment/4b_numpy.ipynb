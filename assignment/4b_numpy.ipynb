{
 "cells": [
  {
   "cell_type": "markdown",
   "metadata": {},
   "source": [
    "<h1>Problem 1: Factorials using numpy</h1>\n",
    "<li><b>prod</b> A numpy function that returns the product of all elements in an array\n",
    "<li><b>cumprod</b> A numpy function on an ndarray of size n that returns an array of size n where each element i is the product of all elements from 0 to i\n"
   ]
  },
  {
   "cell_type": "code",
   "execution_count": 239,
   "metadata": {
    "collapsed": true
   },
   "outputs": [
    {
     "output_type": "execute_result",
     "data": {
      "text/plain": [
       "120"
      ]
     },
     "metadata": {},
     "execution_count": 239
    }
   ],
   "source": [
    "\"\"\"\n",
    "Replace pass with the code that uses ndarray, prod and cumprod \n",
    "to calculate the factorial of n\n",
    "\n",
    "The function should take an integer as an argument and return an integer\n",
    "\n",
    "\"\"\"\n",
    "def factorial(n):\n",
    "    import numpy as np\n",
    "    return np.arange(1,n+1).prod()\n",
    "factorial(5)"
   ]
  },
  {
   "cell_type": "code",
   "execution_count": 240,
   "metadata": {
    "collapsed": true
   },
   "outputs": [
    {
     "output_type": "execute_result",
     "data": {
      "text/plain": [
       "array([  1,   2,   6,  24, 120], dtype=int32)"
      ]
     },
     "metadata": {},
     "execution_count": 240
    }
   ],
   "source": [
    "\"\"\"\n",
    "Replace pass with the code that uses ndarray, prod and cumprod to \n",
    "calculate the factorials of all values from 1 to n\n",
    "\n",
    "The function should take an integer as an argument and return an ndarray\n",
    "of size n \n",
    "\n",
    "\"\"\"\n",
    "\n",
    "def all_factorials(n):\n",
    "    import numpy as np\n",
    "    return np.arange(1,n+1).cumprod()\n",
    "all_factorials(5)"
   ]
  },
  {
   "cell_type": "markdown",
   "metadata": {},
   "source": [
    "<h1>Problem 2: Percent changes</h1>\n",
    "Write a function that constructs an ndarray from data in a file and \n",
    "returns a 1-period percent change on an ndarray after removing any nan values. Your function must make use of the following functions:\n",
    "<li>np.genfromtxt: https://docs.scipy.org/doc/numpy-1.13.0/reference/generated/numpy.genfromtxt.html\n",
    "<li>np.diff: https://docs.scipy.org/doc/numpy-1.13.0/reference/generated/numpy.diff.html\n",
    "<li>np.isnan: https://docs.scipy.org/doc/numpy-1.13.0/reference/generated/numpy.isnan.html\n",
    "\n",
    "<p>Test your function out using the attached apple.csv file. Your function can assume that the file structure is (date,price)\n",
    "\n",
    "<p>Note that percent change is defined as (p(t)-p(t-1))/p(t-1)\n",
    "\n",
    "<b>Example:</b><br>\n",
    "If the data array is: np.array([1,2,np.NaN,4,8,np.NAN])\n",
    "<br>\n",
    "The output array should be<br>\n",
    "array([ 1.,  1.,  1.])\n"
   ]
  },
  {
   "cell_type": "code",
   "execution_count": 241,
   "metadata": {
    "collapsed": true
   },
   "outputs": [
    {
     "output_type": "execute_result",
     "data": {
      "text/plain": [
       "array([-0.05217305, -0.07339571,  0.02475207, ..., -0.00977899,\n",
       "       -0.00882215,  0.01720356])"
      ]
     },
     "metadata": {},
     "execution_count": 241
    }
   ],
   "source": [
    "def get_pct_changes(file_name):\n",
    "    import numpy as np\n",
    "    data = np.genfromtxt(file_name, usecols=1, delimiter=',', skip_header=True)\n",
    "    pct = np.diff(data[~np.isnan(data)])/data[~np.isnan(data)][:-1]\n",
    "    return pct\n",
    "get_pct_changes('apple.csv')"
   ]
  },
  {
   "cell_type": "markdown",
   "metadata": {},
   "source": [
    "<h1>Problem 3: Pandas Grouping</h1>\n",
    "Write a program that reads timeseries pricing data from a file into a pandas dataframe and then groups the data as follows:\n",
    "<li>Adds a column, one-day percent change to the file \n",
    "<li>Groups the data into four categories:\n",
    "<ul>\n",
    "<li>\"High+\" if the percent change is greater than 2.5%\n",
    "<li>\"Low+\" if the percent change is positive and less than or equal to 2.5% \n",
    "<li>\"Low-\" if the percent change is negative but greater than or equal to -2.5%\n",
    "<li>\"High-\" if the percent change is less than -2.5%\n",
    "</ul>\n",
    "<li>Report the size and the mean of each of the groups\n",
    "\n"
   ]
  },
  {
   "cell_type": "code",
   "execution_count": 242,
   "metadata": {
    "collapsed": true
   },
   "outputs": [],
   "source": [
    "datafile = \"apple.csv\"\n",
    "import pandas as pd\n",
    "import numpy as np\n",
    "df = pd.read_csv('apple.csv',na_values='null')\n",
    "df['pct'] = df['Adj Close'].pct_change()\n",
    "df['category'] = np.select([(df[\"pct\"]>0.025),((df[\"pct\"]>=0)&(df[\"pct\"]<=0.025)),((0>df[\"pct\"])&(df[\"pct\"]>=(-0.025))),(df[\"pct\"]<(-0.025))],[\"High+\",\"Low+\",\"Low-\",\"High-\"])\n",
    "size = df.groupby(['category']).size()\n",
    "mean = df.groupby(['category']).mean()"
   ]
  },
  {
   "cell_type": "code",
   "execution_count": 243,
   "metadata": {},
   "outputs": [
    {
     "output_type": "execute_result",
     "data": {
      "text/plain": [
       "category\n",
       "0           1\n",
       "High+    1391\n",
       "High-    1210\n",
       "Low+     3536\n",
       "Low-     3140\n",
       "dtype: int64"
      ]
     },
     "metadata": {},
     "execution_count": 243
    }
   ],
   "source": [
    "size"
   ]
  },
  {
   "cell_type": "code",
   "execution_count": 244,
   "metadata": {},
   "outputs": [
    {
     "output_type": "execute_result",
     "data": {
      "text/plain": [
       "          Adj Close       pct\n",
       "category                     \n",
       "0          0.421597       NaN\n",
       "High+      8.652295  0.045705\n",
       "High-      8.289065 -0.044220\n",
       "Low+      23.738642  0.009879\n",
       "Low-      24.183470 -0.011171"
      ],
      "text/html": "<div>\n<style scoped>\n    .dataframe tbody tr th:only-of-type {\n        vertical-align: middle;\n    }\n\n    .dataframe tbody tr th {\n        vertical-align: top;\n    }\n\n    .dataframe thead th {\n        text-align: right;\n    }\n</style>\n<table border=\"1\" class=\"dataframe\">\n  <thead>\n    <tr style=\"text-align: right;\">\n      <th></th>\n      <th>Adj Close</th>\n      <th>pct</th>\n    </tr>\n    <tr>\n      <th>category</th>\n      <th></th>\n      <th></th>\n    </tr>\n  </thead>\n  <tbody>\n    <tr>\n      <th>0</th>\n      <td>0.421597</td>\n      <td>NaN</td>\n    </tr>\n    <tr>\n      <th>High+</th>\n      <td>8.652295</td>\n      <td>0.045705</td>\n    </tr>\n    <tr>\n      <th>High-</th>\n      <td>8.289065</td>\n      <td>-0.044220</td>\n    </tr>\n    <tr>\n      <th>Low+</th>\n      <td>23.738642</td>\n      <td>0.009879</td>\n    </tr>\n    <tr>\n      <th>Low-</th>\n      <td>24.183470</td>\n      <td>-0.011171</td>\n    </tr>\n  </tbody>\n</table>\n</div>"
     },
     "metadata": {},
     "execution_count": 244
    }
   ],
   "source": [
    "mean"
   ]
  },
  {
   "cell_type": "code",
   "execution_count": 245,
   "metadata": {},
   "outputs": [
    {
     "output_type": "execute_result",
     "data": {
      "text/plain": [
       "            Date   Adj Close       pct category\n",
       "0     1980-12-12    0.421597       NaN        0\n",
       "1     1980-12-15    0.399601 -0.052173    High-\n",
       "2     1980-12-16    0.370272 -0.073396    High-\n",
       "3     1980-12-17    0.379437  0.024752     Low+\n",
       "4     1980-12-18    0.390436  0.028988    High+\n",
       "...          ...         ...       ...      ...\n",
       "9273  2017-09-20  156.070007 -0.016758     Low-\n",
       "9274  2017-09-21  153.389999 -0.017172     Low-\n",
       "9275  2017-09-22  151.889999 -0.009779     Low-\n",
       "9276  2017-09-25  150.550003 -0.008822     Low-\n",
       "9277  2017-09-26  153.139999  0.017204     Low+\n",
       "\n",
       "[9278 rows x 4 columns]"
      ],
      "text/html": "<div>\n<style scoped>\n    .dataframe tbody tr th:only-of-type {\n        vertical-align: middle;\n    }\n\n    .dataframe tbody tr th {\n        vertical-align: top;\n    }\n\n    .dataframe thead th {\n        text-align: right;\n    }\n</style>\n<table border=\"1\" class=\"dataframe\">\n  <thead>\n    <tr style=\"text-align: right;\">\n      <th></th>\n      <th>Date</th>\n      <th>Adj Close</th>\n      <th>pct</th>\n      <th>category</th>\n    </tr>\n  </thead>\n  <tbody>\n    <tr>\n      <th>0</th>\n      <td>1980-12-12</td>\n      <td>0.421597</td>\n      <td>NaN</td>\n      <td>0</td>\n    </tr>\n    <tr>\n      <th>1</th>\n      <td>1980-12-15</td>\n      <td>0.399601</td>\n      <td>-0.052173</td>\n      <td>High-</td>\n    </tr>\n    <tr>\n      <th>2</th>\n      <td>1980-12-16</td>\n      <td>0.370272</td>\n      <td>-0.073396</td>\n      <td>High-</td>\n    </tr>\n    <tr>\n      <th>3</th>\n      <td>1980-12-17</td>\n      <td>0.379437</td>\n      <td>0.024752</td>\n      <td>Low+</td>\n    </tr>\n    <tr>\n      <th>4</th>\n      <td>1980-12-18</td>\n      <td>0.390436</td>\n      <td>0.028988</td>\n      <td>High+</td>\n    </tr>\n    <tr>\n      <th>...</th>\n      <td>...</td>\n      <td>...</td>\n      <td>...</td>\n      <td>...</td>\n    </tr>\n    <tr>\n      <th>9273</th>\n      <td>2017-09-20</td>\n      <td>156.070007</td>\n      <td>-0.016758</td>\n      <td>Low-</td>\n    </tr>\n    <tr>\n      <th>9274</th>\n      <td>2017-09-21</td>\n      <td>153.389999</td>\n      <td>-0.017172</td>\n      <td>Low-</td>\n    </tr>\n    <tr>\n      <th>9275</th>\n      <td>2017-09-22</td>\n      <td>151.889999</td>\n      <td>-0.009779</td>\n      <td>Low-</td>\n    </tr>\n    <tr>\n      <th>9276</th>\n      <td>2017-09-25</td>\n      <td>150.550003</td>\n      <td>-0.008822</td>\n      <td>Low-</td>\n    </tr>\n    <tr>\n      <th>9277</th>\n      <td>2017-09-26</td>\n      <td>153.139999</td>\n      <td>0.017204</td>\n      <td>Low+</td>\n    </tr>\n  </tbody>\n</table>\n<p>9278 rows × 4 columns</p>\n</div>"
     },
     "metadata": {},
     "execution_count": 245
    }
   ],
   "source": [
    "df"
   ]
  }
 ],
 "metadata": {
  "kernelspec": {
   "name": "python395jvsc74a57bd0b61bcc1c1a0d6dcbdbbf867afcb290b77dd53b256dced17a02313d7081f8c26f",
   "display_name": "Python 3.9.5 64-bit"
  },
  "language_info": {
   "codemirror_mode": {
    "name": "ipython",
    "version": 3
   },
   "file_extension": ".py",
   "mimetype": "text/x-python",
   "name": "python",
   "nbconvert_exporter": "python",
   "pygments_lexer": "ipython3",
   "version": "3.9.5"
  },
  "metadata": {
   "interpreter": {
    "hash": "b61bcc1c1a0d6dcbdbbf867afcb290b77dd53b256dced17a02313d7081f8c26f"
   }
  }
 },
 "nbformat": 4,
 "nbformat_minor": 2
}